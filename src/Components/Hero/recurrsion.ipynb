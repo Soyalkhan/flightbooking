{
 "cells": [
  {
   "cell_type": "code",
   "execution_count": 1,
   "metadata": {},
   "outputs": [
    {
     "ename": "SyntaxError",
     "evalue": "invalid syntax (489213262.py, line 1)",
     "output_type": "error",
     "traceback": [
      "\u001b[1;36m  Cell \u001b[1;32mIn[1], line 1\u001b[1;36m\u001b[0m\n\u001b[1;33m    Q 231\u001b[0m\n\u001b[1;37m      ^\u001b[0m\n\u001b[1;31mSyntaxError\u001b[0m\u001b[1;31m:\u001b[0m invalid syntax\n"
     ]
    }
   ],
   "source": [
    "Q 231 \n",
    "class Solution:\n",
    "    def isPowerOfTwo(self, n: int) -> bool:\n",
    "        if n == 1:  \n",
    "            return True\n",
    "        if n == 0 or n % 2 != 0:\n",
    "            return False\n",
    "        return self.isPowerOfTwo(n // 2)\n"
   ]
  },
  {
   "cell_type": "code",
   "execution_count": null,
   "metadata": {},
   "outputs": [],
   "source": [
    "Q332 \n",
    "from collections import defaultdict\n",
    "\n",
    "class Solution:\n",
    "    def findItinerary(self, tickets):\n",
    "       \n",
    "        graph = defaultdict(list)\n",
    "        \n",
    "       \n",
    "        for frm, to in sorted(tickets, reverse=True):\n",
    "            graph[frm].append(to)\n",
    "\n",
    "        itinerary = []\n",
    "\n",
    "        def dfs(airport):\n",
    "          \n",
    "            while graph[airport]:\n",
    "              \n",
    "                next_dest = graph[airport].pop()\n",
    "                dfs(next_dest)\n",
    "           \n",
    "            itinerary.append(airport)\n",
    "\n",
    "       \n",
    "        dfs(\"JFK\")\n",
    "        \n",
    "      \n",
    "        return itinerary[::-1]"
   ]
  }
 ],
 "metadata": {
  "kernelspec": {
   "display_name": "Python 3",
   "language": "python",
   "name": "python3"
  },
  "language_info": {
   "codemirror_mode": {
    "name": "ipython",
    "version": 3
   },
   "file_extension": ".py",
   "mimetype": "text/x-python",
   "name": "python",
   "nbconvert_exporter": "python",
   "pygments_lexer": "ipython3",
   "version": "3.12.4"
  }
 },
 "nbformat": 4,
 "nbformat_minor": 2
}
